{
 "cells": [
  {
   "cell_type": "code",
   "execution_count": 45,
   "metadata": {},
   "outputs": [],
   "source": [
    "%matplotlib inline\n",
    "from matplotlib import style\n",
    "style.use('fivethirtyeight')\n",
    "import matplotlib.pyplot as plt"
   ]
  },
  {
   "cell_type": "code",
   "execution_count": 46,
   "metadata": {},
   "outputs": [],
   "source": [
    "import numpy as np\n",
    "import pandas as pd\n",
    "import datetime as dt"
   ]
  },
  {
   "cell_type": "markdown",
   "metadata": {},
   "source": [
    "# Reflect Tables into SQLAlchemy ORM"
   ]
  },
  {
   "cell_type": "code",
   "execution_count": 10,
   "metadata": {},
   "outputs": [],
   "source": [
    "# Python SQL toolkit and Object Relational Mapper\n",
    "import sqlalchemy\n",
    "from sqlalchemy.ext.automap import automap_base\n",
    "from sqlalchemy.orm import Session\n",
    "from sqlalchemy import create_engine, func, inspect"
   ]
  },
  {
   "cell_type": "code",
   "execution_count": 4,
   "metadata": {},
   "outputs": [],
   "source": [
    "# create engine to hawaii.sqlite\n",
    "engine = create_engine(\"sqlite:///Resources/hawaii.sqlite\")"
   ]
  },
  {
   "cell_type": "code",
   "execution_count": 32,
   "metadata": {},
   "outputs": [],
   "source": [
    "# reflect an existing database into a new model\n",
    "Base = automap_base()\n",
    "# reflect the tables\n",
    "Base.prepare(engine, reflect= True)"
   ]
  },
  {
   "cell_type": "code",
   "execution_count": 33,
   "metadata": {},
   "outputs": [
    {
     "data": {
      "text/plain": [
       "['measurement', 'station']"
      ]
     },
     "execution_count": 33,
     "metadata": {},
     "output_type": "execute_result"
    }
   ],
   "source": [
    "# View all of the classes that automap found\n",
    "Base.classes.keys()"
   ]
  },
  {
   "cell_type": "code",
   "execution_count": 34,
   "metadata": {},
   "outputs": [],
   "source": [
    "# Save references to each table\n",
    "Measurement = Base.classes.measurement\n",
    "Station = Base.classes.station"
   ]
  },
  {
   "cell_type": "code",
   "execution_count": 35,
   "metadata": {},
   "outputs": [],
   "source": [
    "# Create our session (link) from Python to the DB\n",
    "session = Session(engine)"
   ]
  },
  {
   "cell_type": "markdown",
   "metadata": {},
   "source": [
    "# Exploratory Precipitation Analysis"
   ]
  },
  {
   "cell_type": "code",
   "execution_count": 36,
   "metadata": {},
   "outputs": [
    {
     "name": "stdout",
     "output_type": "stream",
     "text": [
      "id INTEGER\n",
      "station TEXT\n",
      "date TEXT\n",
      "prcp FLOAT\n",
      "tobs FLOAT\n"
     ]
    }
   ],
   "source": [
    "# Find the most recent date in the data set.\n",
    "\n",
    "#imported inspector to find column names for each table to more accurately query \n",
    "inspector = inspect(engine)\n",
    "measurement_columns = inspector.get_columns(\"measurement\")\n",
    "for c in measurement_columns:\n",
    "    print(c[\"name\"], c[\"type\"])"
   ]
  },
  {
   "cell_type": "code",
   "execution_count": 47,
   "metadata": {},
   "outputs": [
    {
     "name": "stdout",
     "output_type": "stream",
     "text": [
      "id INTEGER\n",
      "station TEXT\n",
      "name TEXT\n",
      "latitude FLOAT\n",
      "longitude FLOAT\n",
      "elevation FLOAT\n"
     ]
    }
   ],
   "source": [
    "station_columns = inspector.get_columns(\"station\")\n",
    "for c in station_columns:\n",
    "    print(c[\"name\"],c[\"type\"])\n",
    "\n",
    "#now we know that the date column to query exists in the measurement table of the hawaii sqlite file"
   ]
  },
  {
   "cell_type": "code",
   "execution_count": 48,
   "metadata": {},
   "outputs": [
    {
     "name": "stdout",
     "output_type": "stream",
     "text": [
      "('2017-08-23',)\n"
     ]
    }
   ],
   "source": [
    "#most recent date is query the date; sort in descending order and pick first; in string fomat so still filters chronologically\n",
    "most_recent_date = session.query(Measurement.date).\\\n",
    "    order_by(Measurement.date.desc()).first()\n",
    "\n",
    "print(most_recent_date)"
   ]
  },
  {
   "cell_type": "code",
   "execution_count": 49,
   "metadata": {},
   "outputs": [
    {
     "data": {
      "image/png": "[encoded data removed]",
      "text/plain": [
       "<Figure size 432x288 with 1 Axes>"
      ]
     },
     "metadata": {},
     "output_type": "display_data"
    }
   ],
   "source": [
    "# Design a query to retrieve the last 12 months of precipitation data and plot the results. \n",
    "\n",
    "values = session.query(Measurement.date, Measurement.prcp).\\\n",
    "    filter(Measurement.date > '2016-08-22').\\\n",
    "    order_by(Measurement.date).all()\n",
    "\n",
    "# Check to see if correct values were generated via for loop and printing values\n",
    "# for value in values:\n",
    "#     print(values)\n",
    "\n",
    "# Calculate the date one year from the last date in data set.\n",
    "    # value one year from the start date is 2016-08-23, by filtering for values greater than 2016-08-22 we include all days in that range\n",
    "\n",
    "# Perform a query to retrieve the data and precipitation scores\n",
    "    # query done for dates and precipitation and saved in the values variable above\n",
    "\n",
    "# Save the query results as a Pandas DataFrame and set the index to the date column\n",
    "\n",
    "values_df = pd.DataFrame(values)\n",
    "values_final_df = values_df.set_index(\"date\")\n",
    "values_final_df\n",
    "\n",
    "# Sort the dataframe by date\n",
    "    # date already sorted in ascending order since we queried the dates and precip and sorted when creating var \"values\"\n",
    "\n",
    "# Use Pandas Plotting with Matplotlib to plot the data\n",
    "values_final_df.plot()\n",
    "plt.ylim(0,7)\n",
    "plt.xticks(rotation=70)\n",
    "plt.xlabel('Date')\n",
    "plt.ylabel('Inches')\n",
    "plt.tight_layout()\n",
    "plt.show()\n",
    "\n"
   ]
  },
  {
   "cell_type": "code",
   "execution_count": 50,
   "metadata": {},
   "outputs": [
    {
     "data": {
      "text/html": [
       "<div>\n",
       "<style scoped>\n",
       "    .dataframe tbody tr th:only-of-type {\n",
       "        vertical-align: middle;\n",
       "    }\n",
       "\n",
       "    .dataframe tbody tr th {\n",
       "        vertical-align: top;\n",
       "    }\n",
       "\n",
       "    .dataframe thead th {\n",
       "        text-align: right;\n",
       "    }\n",
       "</style>\n",
       "<table border=\"1\" class=\"dataframe\">\n",
       "  <thead>\n",
       "    <tr style=\"text-align: right;\">\n",
       "      <th></th>\n",
       "      <th>prcp</th>\n",
       "    </tr>\n",
       "  </thead>\n",
       "  <tbody>\n",
       "    <tr>\n",
       "      <th>count</th>\n",
       "      <td>2021.000000</td>\n",
       "    </tr>\n",
       "    <tr>\n",
       "      <th>mean</th>\n",
       "      <td>0.177279</td>\n",
       "    </tr>\n",
       "    <tr>\n",
       "      <th>std</th>\n",
       "      <td>0.461190</td>\n",
       "    </tr>\n",
       "    <tr>\n",
       "      <th>min</th>\n",
       "      <td>0.000000</td>\n",
       "    </tr>\n",
       "    <tr>\n",
       "      <th>25%</th>\n",
       "      <td>0.000000</td>\n",
       "    </tr>\n",
       "    <tr>\n",
       "      <th>50%</th>\n",
       "      <td>0.020000</td>\n",
       "    </tr>\n",
       "    <tr>\n",
       "      <th>75%</th>\n",
       "      <td>0.130000</td>\n",
       "    </tr>\n",
       "    <tr>\n",
       "      <th>max</th>\n",
       "      <td>6.700000</td>\n",
       "    </tr>\n",
       "  </tbody>\n",
       "</table>\n",
       "</div>"
      ],
      "text/plain": [
       "              prcp\n",
       "count  2021.000000\n",
       "mean      0.177279\n",
       "std       0.461190\n",
       "min       0.000000\n",
       "25%       0.000000\n",
       "50%       0.020000\n",
       "75%       0.130000\n",
       "max       6.700000"
      ]
     },
     "execution_count": 50,
     "metadata": {},
     "output_type": "execute_result"
    }
   ],
   "source": [
    "# Use Pandas to calcualte the summary statistics for the precipitation data \n",
    "\n",
    "values_final_df.describe()"
   ]
  },
  {
   "cell_type": "markdown",
   "metadata": {},
   "source": [
    "# Exploratory Station Analysis"
   ]
  },
  {
   "cell_type": "code",
   "execution_count": 51,
   "metadata": {},
   "outputs": [
    {
     "data": {
      "text/plain": [
       "9"
      ]
     },
     "execution_count": 51,
     "metadata": {},
     "output_type": "execute_result"
    }
   ],
   "source": [
    "# Design a query to calculate the total number stations in the dataset\n",
    "total_number_stations= session.query(Station.station).count()\n",
    "total_number_stations"
   ]
  },
  {
   "cell_type": "code",
   "execution_count": 56,
   "metadata": {},
   "outputs": [
    {
     "data": {
      "text/plain": [
       "[('USC00519281', 2772),\n",
       " ('USC00519397', 2724),\n",
       " ('USC00513117', 2709),\n",
       " ('USC00519523', 2669),\n",
       " ('USC00516128', 2612),\n",
       " ('USC00514830', 2202),\n",
       " ('USC00511918', 1979),\n",
       " ('USC00517948', 1372),\n",
       " ('USC00518838', 511)]"
      ]
     },
     "execution_count": 56,
     "metadata": {},
     "output_type": "execute_result"
    }
   ],
   "source": [
    "# Find the most active stations in the descending order\n",
    "\n",
    "active_stations = session.query(Measurement.station, func.count(Measurement.id))\\\n",
    "    .group_by(Measurement.station)\\\n",
    "    .order_by(func.count(Measurement.id).desc()).all()\n",
    "\n",
    "active_stations"
   ]
  },
  {
   "cell_type": "code",
   "execution_count": 53,
   "metadata": {},
   "outputs": [
    {
     "name": "stdout",
     "output_type": "stream",
     "text": [
      "[(54.0,)]\n",
      "[(85.0,)]\n",
      "[(71.66378066378067,)]\n"
     ]
    }
   ],
   "source": [
    "# Using the most active station id from the previous query, calculate the lowest, highest, and average temperature.\n",
    "# Most active station would be the first in a descending list of measurement station count - Station: USC00519281\n",
    "\n",
    "most_active_station = session.query(Measurement.station,func.count(Measurement.station)).\\\n",
    "    order_by(func.count(Measurement.station).desc()).\\\n",
    "    group_by(Measurement.station).first()\n",
    "\n",
    "# Check to see if most active station was selected:\n",
    "# print(most_active_station) \n",
    "\n",
    "# Isolate station number from this list of station numbers and count of stations\n",
    "most_active_station_number = most_active_station[0]\n",
    "most_active_station_number \n",
    "\n",
    "# Lowest temperature for most active station\n",
    "lowest_temperature = session.query(func.min(Measurement.tobs)).\\\n",
    "  filter(Measurement.station==most_active_station_number).all()\n",
    "print(lowest_temperature) \n",
    "\n",
    "# print(f\"The lowest temperature for station {lowest_temperature}\")\n",
    "\n",
    "# Highest temperature for most active station\n",
    "highest_temperature = session.query(func.max(Measurement.tobs)).\\\n",
    "  filter(Measurement.station==most_active_station_number).all()\n",
    "\n",
    "print(highest_temperature)\n",
    "\n",
    "# Avg temperature for most active station\n",
    "average_temperature = session.query(func.avg(Measurement.tobs)).\\\n",
    "    filter(Measurement.station==most_active_station_number).all()\n",
    "\n",
    "print(average_temperature)"
   ]
  },
  {
   "cell_type": "code",
   "execution_count": 64,
   "metadata": {},
   "outputs": [
    {
     "data": {
      "text/plain": [
       "[('USC00519281', 77.0),\n",
       " ('USC00519281', 80.0),\n",
       " ('USC00519281', 80.0),\n",
       " ('USC00519281', 75.0),\n",
       " ('USC00519281', 73.0),\n",
       " ('USC00519281', 78.0),\n",
       " ('USC00519281', 77.0),\n",
       " ('USC00519281', 78.0),\n",
       " ('USC00519281', 80.0),\n",
       " ('USC00519281', 80.0),\n",
       " ('USC00519281', 78.0),\n",
       " ('USC00519281', 78.0),\n",
       " ('USC00519281', 78.0),\n",
       " ('USC00519281', 73.0),\n",
       " ('USC00519281', 74.0),\n",
       " ('USC00519281', 80.0),\n",
       " ('USC00519281', 79.0),\n",
       " ('USC00519281', 77.0),\n",
       " ('USC00519281', 80.0),\n",
       " ('USC00519281', 76.0),\n",
       " ('USC00519281', 79.0),\n",
       " ('USC00519281', 75.0),\n",
       " ('USC00519281', 79.0),\n",
       " ('USC00519281', 78.0),\n",
       " ('USC00519281', 79.0),\n",
       " ('USC00519281', 78.0),\n",
       " ('USC00519281', 78.0),\n",
       " ('USC00519281', 76.0),\n",
       " ('USC00519281', 74.0),\n",
       " ('USC00519281', 77.0),\n",
       " ('USC00519281', 78.0),\n",
       " ('USC00519281', 79.0),\n",
       " ('USC00519281', 79.0),\n",
       " ('USC00519281', 77.0),\n",
       " ('USC00519281', 80.0),\n",
       " ('USC00519281', 78.0),\n",
       " ('USC00519281', 78.0),\n",
       " ('USC00519281', 78.0),\n",
       " ('USC00519281', 77.0),\n",
       " ('USC00519281', 79.0),\n",
       " ('USC00519281', 79.0),\n",
       " ('USC00519281', 79.0),\n",
       " ('USC00519281', 79.0),\n",
       " ('USC00519281', 75.0),\n",
       " ('USC00519281', 76.0),\n",
       " ('USC00519281', 73.0),\n",
       " ('USC00519281', 72.0),\n",
       " ('USC00519281', 71.0),\n",
       " ('USC00519281', 77.0),\n",
       " ('USC00519281', 79.0),\n",
       " ('USC00519281', 78.0),\n",
       " ('USC00519281', 79.0),\n",
       " ('USC00519281', 77.0),\n",
       " ('USC00519281', 79.0),\n",
       " ('USC00519281', 77.0),\n",
       " ('USC00519281', 78.0),\n",
       " ('USC00519281', 78.0),\n",
       " ('USC00519281', 78.0),\n",
       " ('USC00519281', 78.0),\n",
       " ('USC00519281', 77.0),\n",
       " ('USC00519281', 74.0),\n",
       " ('USC00519281', 75.0),\n",
       " ('USC00519281', 76.0),\n",
       " ('USC00519281', 73.0),\n",
       " ('USC00519281', 76.0),\n",
       " ('USC00519281', 74.0),\n",
       " ('USC00519281', 77.0),\n",
       " ('USC00519281', 76.0),\n",
       " ('USC00519281', 76.0),\n",
       " ('USC00519281', 74.0),\n",
       " ('USC00519281', 75.0),\n",
       " ('USC00519281', 75.0),\n",
       " ('USC00519281', 75.0),\n",
       " ('USC00519281', 75.0),\n",
       " ('USC00519281', 71.0),\n",
       " ('USC00519281', 63.0),\n",
       " ('USC00519281', 70.0),\n",
       " ('USC00519281', 68.0),\n",
       " ('USC00519281', 67.0),\n",
       " ('USC00519281', 77.0),\n",
       " ('USC00519281', 74.0),\n",
       " ('USC00519281', 77.0),\n",
       " ('USC00519281', 76.0),\n",
       " ('USC00519281', 76.0),\n",
       " ('USC00519281', 75.0),\n",
       " ('USC00519281', 76.0),\n",
       " ('USC00519281', 75.0),\n",
       " ('USC00519281', 73.0),\n",
       " ('USC00519281', 75.0),\n",
       " ('USC00519281', 73.0),\n",
       " ('USC00519281', 75.0),\n",
       " ('USC00519281', 74.0),\n",
       " ('USC00519281', 75.0),\n",
       " ('USC00519281', 74.0),\n",
       " ('USC00519281', 75.0),\n",
       " ('USC00519281', 73.0),\n",
       " ('USC00519281', 75.0),\n",
       " ('USC00519281', 73.0),\n",
       " ('USC00519281', 73.0),\n",
       " ('USC00519281', 74.0),\n",
       " ('USC00519281', 70.0),\n",
       " ('USC00519281', 72.0),\n",
       " ('USC00519281', 70.0),\n",
       " ('USC00519281', 67.0),\n",
       " ('USC00519281', 67.0),\n",
       " ('USC00519281', 69.0),\n",
       " ('USC00519281', 70.0),\n",
       " ('USC00519281', 68.0),\n",
       " ('USC00519281', 69.0),\n",
       " ('USC00519281', 69.0),\n",
       " ('USC00519281', 66.0),\n",
       " ('USC00519281', 65.0),\n",
       " ('USC00519281', 68.0),\n",
       " ('USC00519281', 62.0),\n",
       " ('USC00519281', 75.0),\n",
       " ('USC00519281', 70.0),\n",
       " ('USC00519281', 69.0),\n",
       " ('USC00519281', 76.0),\n",
       " ('USC00519281', 76.0),\n",
       " ('USC00519281', 74.0),\n",
       " ('USC00519281', 73.0),\n",
       " ('USC00519281', 71.0),\n",
       " ('USC00519281', 74.0),\n",
       " ('USC00519281', 74.0),\n",
       " ('USC00519281', 72.0),\n",
       " ('USC00519281', 71.0),\n",
       " ('USC00519281', 72.0),\n",
       " ('USC00519281', 74.0),\n",
       " ('USC00519281', 69.0),\n",
       " ('USC00519281', 67.0),\n",
       " ('USC00519281', 72.0),\n",
       " ('USC00519281', 70.0),\n",
       " ('USC00519281', 64.0),\n",
       " ('USC00519281', 63.0),\n",
       " ('USC00519281', 63.0),\n",
       " ('USC00519281', 62.0),\n",
       " ('USC00519281', 70.0),\n",
       " ('USC00519281', 70.0),\n",
       " ('USC00519281', 62.0),\n",
       " ('USC00519281', 62.0),\n",
       " ('USC00519281', 63.0),\n",
       " ('USC00519281', 65.0),\n",
       " ('USC00519281', 69.0),\n",
       " ('USC00519281', 77.0),\n",
       " ('USC00519281', 70.0),\n",
       " ('USC00519281', 74.0),\n",
       " ('USC00519281', 69.0),\n",
       " ('USC00519281', 72.0),\n",
       " ('USC00519281', 71.0),\n",
       " ('USC00519281', 69.0),\n",
       " ('USC00519281', 71.0),\n",
       " ('USC00519281', 71.0),\n",
       " ('USC00519281', 72.0),\n",
       " ('USC00519281', 72.0),\n",
       " ('USC00519281', 69.0),\n",
       " ('USC00519281', 70.0),\n",
       " ('USC00519281', 66.0),\n",
       " ('USC00519281', 65.0),\n",
       " ('USC00519281', 69.0),\n",
       " ('USC00519281', 68.0),\n",
       " ('USC00519281', 68.0),\n",
       " ('USC00519281', 68.0),\n",
       " ('USC00519281', 59.0),\n",
       " ('USC00519281', 60.0),\n",
       " ('USC00519281', 70.0),\n",
       " ('USC00519281', 73.0),\n",
       " ('USC00519281', 75.0),\n",
       " ('USC00519281', 64.0),\n",
       " ('USC00519281', 59.0),\n",
       " ('USC00519281', 59.0),\n",
       " ('USC00519281', 62.0),\n",
       " ('USC00519281', 68.0),\n",
       " ('USC00519281', 70.0),\n",
       " ('USC00519281', 73.0),\n",
       " ('USC00519281', 79.0),\n",
       " ('USC00519281', 75.0),\n",
       " ('USC00519281', 65.0),\n",
       " ('USC00519281', 70.0),\n",
       " ('USC00519281', 74.0),\n",
       " ('USC00519281', 70.0),\n",
       " ('USC00519281', 70.0),\n",
       " ('USC00519281', 71.0),\n",
       " ('USC00519281', 71.0),\n",
       " ('USC00519281', 71.0),\n",
       " ('USC00519281', 69.0),\n",
       " ('USC00519281', 61.0),\n",
       " ('USC00519281', 67.0),\n",
       " ('USC00519281', 65.0),\n",
       " ('USC00519281', 72.0),\n",
       " ('USC00519281', 71.0),\n",
       " ('USC00519281', 73.0),\n",
       " ('USC00519281', 72.0),\n",
       " ('USC00519281', 77.0),\n",
       " ('USC00519281', 73.0),\n",
       " ('USC00519281', 67.0),\n",
       " ('USC00519281', 62.0),\n",
       " ('USC00519281', 64.0),\n",
       " ('USC00519281', 67.0),\n",
       " ('USC00519281', 66.0),\n",
       " ('USC00519281', 81.0),\n",
       " ('USC00519281', 69.0),\n",
       " ('USC00519281', 66.0),\n",
       " ('USC00519281', 67.0),\n",
       " ('USC00519281', 69.0),\n",
       " ('USC00519281', 66.0),\n",
       " ('USC00519281', 68.0),\n",
       " ('USC00519281', 65.0),\n",
       " ('USC00519281', 74.0),\n",
       " ('USC00519281', 69.0),\n",
       " ('USC00519281', 72.0),\n",
       " ('USC00519281', 73.0),\n",
       " ('USC00519281', 72.0),\n",
       " ('USC00519281', 71.0),\n",
       " ('USC00519281', 76.0),\n",
       " ('USC00519281', 77.0),\n",
       " ('USC00519281', 76.0),\n",
       " ('USC00519281', 74.0),\n",
       " ('USC00519281', 68.0),\n",
       " ('USC00519281', 73.0),\n",
       " ('USC00519281', 71.0),\n",
       " ('USC00519281', 74.0),\n",
       " ('USC00519281', 75.0),\n",
       " ('USC00519281', 70.0),\n",
       " ('USC00519281', 67.0),\n",
       " ('USC00519281', 71.0),\n",
       " ('USC00519281', 67.0),\n",
       " ('USC00519281', 74.0),\n",
       " ('USC00519281', 77.0),\n",
       " ('USC00519281', 78.0),\n",
       " ('USC00519281', 67.0),\n",
       " ('USC00519281', 70.0),\n",
       " ('USC00519281', 69.0),\n",
       " ('USC00519281', 69.0),\n",
       " ('USC00519281', 74.0),\n",
       " ('USC00519281', 78.0),\n",
       " ('USC00519281', 71.0),\n",
       " ('USC00519281', 67.0),\n",
       " ('USC00519281', 68.0),\n",
       " ('USC00519281', 67.0),\n",
       " ('USC00519281', 76.0),\n",
       " ('USC00519281', 69.0),\n",
       " ('USC00519281', 72.0),\n",
       " ('USC00519281', 76.0),\n",
       " ('USC00519281', 68.0),\n",
       " ('USC00519281', 72.0),\n",
       " ('USC00519281', 74.0),\n",
       " ('USC00519281', 70.0),\n",
       " ('USC00519281', 67.0),\n",
       " ('USC00519281', 72.0),\n",
       " ('USC00519281', 60.0),\n",
       " ('USC00519281', 65.0),\n",
       " ('USC00519281', 75.0),\n",
       " ('USC00519281', 70.0),\n",
       " ('USC00519281', 75.0),\n",
       " ('USC00519281', 70.0),\n",
       " ('USC00519281', 79.0),\n",
       " ('USC00519281', 75.0),\n",
       " ('USC00519281', 70.0),\n",
       " ('USC00519281', 67.0),\n",
       " ('USC00519281', 74.0),\n",
       " ('USC00519281', 70.0),\n",
       " ('USC00519281', 75.0),\n",
       " ('USC00519281', 76.0),\n",
       " ('USC00519281', 77.0),\n",
       " ('USC00519281', 74.0),\n",
       " ('USC00519281', 74.0),\n",
       " ('USC00519281', 74.0),\n",
       " ('USC00519281', 69.0),\n",
       " ('USC00519281', 68.0),\n",
       " ('USC00519281', 76.0),\n",
       " ('USC00519281', 74.0),\n",
       " ('USC00519281', 71.0),\n",
       " ('USC00519281', 71.0),\n",
       " ('USC00519281', 74.0),\n",
       " ('USC00519281', 74.0),\n",
       " ('USC00519281', 74.0),\n",
       " ('USC00519281', 74.0),\n",
       " ('USC00519281', 80.0),\n",
       " ('USC00519281', 74.0),\n",
       " ('USC00519281', 72.0),\n",
       " ('USC00519281', 75.0),\n",
       " ('USC00519281', 80.0),\n",
       " ('USC00519281', 76.0),\n",
       " ('USC00519281', 76.0),\n",
       " ('USC00519281', 77.0),\n",
       " ('USC00519281', 75.0),\n",
       " ('USC00519281', 75.0),\n",
       " ('USC00519281', 75.0),\n",
       " ('USC00519281', 75.0),\n",
       " ('USC00519281', 72.0),\n",
       " ('USC00519281', 74.0),\n",
       " ('USC00519281', 74.0),\n",
       " ('USC00519281', 74.0),\n",
       " ('USC00519281', 76.0),\n",
       " ('USC00519281', 74.0),\n",
       " ('USC00519281', 75.0),\n",
       " ('USC00519281', 73.0),\n",
       " ('USC00519281', 79.0),\n",
       " ('USC00519281', 75.0),\n",
       " ('USC00519281', 72.0),\n",
       " ('USC00519281', 72.0),\n",
       " ('USC00519281', 74.0),\n",
       " ('USC00519281', 72.0),\n",
       " ('USC00519281', 72.0),\n",
       " ('USC00519281', 77.0),\n",
       " ('USC00519281', 71.0),\n",
       " ('USC00519281', 73.0),\n",
       " ('USC00519281', 76.0),\n",
       " ('USC00519281', 77.0),\n",
       " ('USC00519281', 76.0),\n",
       " ('USC00519281', 76.0),\n",
       " ('USC00519281', 79.0),\n",
       " ('USC00519281', 81.0),\n",
       " ('USC00519281', 76.0),\n",
       " ('USC00519281', 78.0),\n",
       " ('USC00519281', 77.0),\n",
       " ('USC00519281', 74.0),\n",
       " ('USC00519281', 75.0),\n",
       " ('USC00519281', 78.0),\n",
       " ('USC00519281', 78.0),\n",
       " ('USC00519281', 69.0),\n",
       " ('USC00519281', 72.0),\n",
       " ('USC00519281', 74.0),\n",
       " ('USC00519281', 74.0),\n",
       " ('USC00519281', 76.0),\n",
       " ('USC00519281', 80.0),\n",
       " ('USC00519281', 80.0),\n",
       " ('USC00519281', 76.0),\n",
       " ('USC00519281', 76.0),\n",
       " ('USC00519281', 76.0),\n",
       " ('USC00519281', 77.0),\n",
       " ('USC00519281', 77.0),\n",
       " ('USC00519281', 77.0),\n",
       " ('USC00519281', 82.0),\n",
       " ('USC00519281', 75.0),\n",
       " ('USC00519281', 77.0),\n",
       " ('USC00519281', 75.0),\n",
       " ('USC00519281', 76.0),\n",
       " ('USC00519281', 81.0),\n",
       " ('USC00519281', 82.0),\n",
       " ('USC00519281', 81.0),\n",
       " ('USC00519281', 76.0),\n",
       " ('USC00519281', 77.0),\n",
       " ('USC00519281', 82.0),\n",
       " ('USC00519281', 83.0),\n",
       " ('USC00519281', 77.0),\n",
       " ('USC00519281', 77.0),\n",
       " ('USC00519281', 77.0),\n",
       " ('USC00519281', 76.0),\n",
       " ('USC00519281', 76.0),\n",
       " ('USC00519281', 79.0)]"
      ]
     },
     "execution_count": 64,
     "metadata": {},
     "output_type": "execute_result"
    }
   ],
   "source": [
    "# Using the most active station id\n",
    "# Query the last 12 months of temperature observation data for this station and plot the results as a histogram\n",
    "\n",
    "tobs_station = session.query(Measurement.station, Measurement.tobs)\\\n",
    "    .filter(Measurement.date > '2016-08-23')\\\n",
    "    .filter(Measurement.date <= '2017-08-23')\\\n",
    "    .filter(Measurement.station == \"USC00519281\").all()\n",
    "\n",
    "tobs_station\n"
   ]
  },
  {
   "cell_type": "code",
   "execution_count": 65,
   "metadata": {},
   "outputs": [
    {
     "data": {
      "text/html": [
       "<div>\n",
       "<style scoped>\n",
       "    .dataframe tbody tr th:only-of-type {\n",
       "        vertical-align: middle;\n",
       "    }\n",
       "\n",
       "    .dataframe tbody tr th {\n",
       "        vertical-align: top;\n",
       "    }\n",
       "\n",
       "    .dataframe thead th {\n",
       "        text-align: right;\n",
       "    }\n",
       "</style>\n",
       "<table border=\"1\" class=\"dataframe\">\n",
       "  <thead>\n",
       "    <tr style=\"text-align: right;\">\n",
       "      <th></th>\n",
       "      <th>Station</th>\n",
       "      <th>Temp. Observations</th>\n",
       "    </tr>\n",
       "  </thead>\n",
       "  <tbody>\n",
       "    <tr>\n",
       "      <th>0</th>\n",
       "      <td>USC00519281</td>\n",
       "      <td>77.0</td>\n",
       "    </tr>\n",
       "    <tr>\n",
       "      <th>1</th>\n",
       "      <td>USC00519281</td>\n",
       "      <td>80.0</td>\n",
       "    </tr>\n",
       "    <tr>\n",
       "      <th>2</th>\n",
       "      <td>USC00519281</td>\n",
       "      <td>80.0</td>\n",
       "    </tr>\n",
       "    <tr>\n",
       "      <th>3</th>\n",
       "      <td>USC00519281</td>\n",
       "      <td>75.0</td>\n",
       "    </tr>\n",
       "    <tr>\n",
       "      <th>4</th>\n",
       "      <td>USC00519281</td>\n",
       "      <td>73.0</td>\n",
       "    </tr>\n",
       "    <tr>\n",
       "      <th>...</th>\n",
       "      <td>...</td>\n",
       "      <td>...</td>\n",
       "    </tr>\n",
       "    <tr>\n",
       "      <th>346</th>\n",
       "      <td>USC00519281</td>\n",
       "      <td>77.0</td>\n",
       "    </tr>\n",
       "    <tr>\n",
       "      <th>347</th>\n",
       "      <td>USC00519281</td>\n",
       "      <td>77.0</td>\n",
       "    </tr>\n",
       "    <tr>\n",
       "      <th>348</th>\n",
       "      <td>USC00519281</td>\n",
       "      <td>76.0</td>\n",
       "    </tr>\n",
       "    <tr>\n",
       "      <th>349</th>\n",
       "      <td>USC00519281</td>\n",
       "      <td>76.0</td>\n",
       "    </tr>\n",
       "    <tr>\n",
       "      <th>350</th>\n",
       "      <td>USC00519281</td>\n",
       "      <td>79.0</td>\n",
       "    </tr>\n",
       "  </tbody>\n",
       "</table>\n",
       "<p>351 rows × 2 columns</p>\n",
       "</div>"
      ],
      "text/plain": [
       "         Station  Temp. Observations\n",
       "0    USC00519281                77.0\n",
       "1    USC00519281                80.0\n",
       "2    USC00519281                80.0\n",
       "3    USC00519281                75.0\n",
       "4    USC00519281                73.0\n",
       "..           ...                 ...\n",
       "346  USC00519281                77.0\n",
       "347  USC00519281                77.0\n",
       "348  USC00519281                76.0\n",
       "349  USC00519281                76.0\n",
       "350  USC00519281                79.0\n",
       "\n",
       "[351 rows x 2 columns]"
      ]
     },
     "execution_count": 65,
     "metadata": {},
     "output_type": "execute_result"
    }
   ],
   "source": [
    "# convert results to a dataframe for plotting\n",
    "station_temp_df = pd.DataFrame(tobs_station, columns=[\"Station\", \"Temp. Observations\"])\n",
    "station_temp_df"
   ]
  },
  {
   "cell_type": "code",
   "execution_count": 67,
   "metadata": {},
   "outputs": [
    {
     "data": {
      "image/png": "[encoded data removed]",
      "text/plain": [
       "<Figure size 432x288 with 1 Axes>"
      ]
     },
     "metadata": {},
     "output_type": "display_data"
    }
   ],
   "source": [
    "# plot a histogram of the results\n",
    "\n",
    "station_temp_df[\"Temp. Observations\"].hist(bins=12, color=\"mediumturquoise\")\n",
    "plt.title(\"Temperature Observations for Station USC00519281\")\n",
    "plt.xlabel(\"Temperature\")\n",
    "plt.ylabel(\"Observation Frequency\")\n",
    "plt.show()"
   ]
  },
  {
   "cell_type": "markdown",
   "metadata": {},
   "source": [
    "# Close session"
   ]
  },
  {
   "cell_type": "code",
   "execution_count": 68,
   "metadata": {},
   "outputs": [],
   "source": [
    "# Close Session\n",
    "session.close()"
   ]
  },
  {
   "cell_type": "code",
   "execution_count": null,
   "metadata": {},
   "outputs": [],
   "source": []
  }
 ],
 "metadata": {
  "anaconda-cloud": {},
  "kernel_info": {
   "name": "python3"
  },
  "kernelspec": {
   "display_name": "Python 3 (ipykernel)",
   "language": "python",
   "name": "python3"
  },
  "language_info": {
   "codemirror_mode": {
    "name": "ipython",
    "version": 3
   },
   "file_extension": ".py",
   "mimetype": "text/x-python",
   "name": "python",
   "nbconvert_exporter": "python",
   "pygments_lexer": "ipython3",
   "version": "3.9.12"
  },
  "nteract": {
   "version": "0.12.3"
  },
  "varInspector": {
   "cols": {
    "lenName": 16,
    "lenType": 16,
    "lenVar": 40
   },
   "kernels_config": {
    "python": {
     "delete_cmd_postfix": "",
     "delete_cmd_prefix": "del ",
     "library": "var_list.py",
     "varRefreshCmd": "print(var_dic_list())"
    },
    "r": {
     "delete_cmd_postfix": ") ",
     "delete_cmd_prefix": "rm(",
     "library": "var_list.r",
     "varRefreshCmd": "cat(var_dic_list()) "
    }
   },
   "types_to_exclude": [
    "module",
    "function",
    "builtin_function_or_method",
    "instance",
    "_Feature"
   ],
   "window_display": false
  }
 },
 "nbformat": 4,
 "nbformat_minor": 2
}
